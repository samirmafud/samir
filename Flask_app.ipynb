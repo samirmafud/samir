{
 "cells": [
  {
   "cell_type": "code",
   "execution_count": 1,
   "metadata": {},
   "outputs": [],
   "source": [
    "import webbrowser\n",
    "import joblib\n",
    "from flask import Flask, render_template, request"
   ]
  },
  {
   "cell_type": "code",
   "execution_count": 2,
   "metadata": {},
   "outputs": [],
   "source": [
    "app = Flask(__name__)\n",
    "\n",
    "def detection(model, x):\n",
    "    riesgo = model.predict([x])[0]\n",
    "    if riesgo == 1:\n",
    "        riesgo = 'Bajo'\n",
    "    elif riesgo ==2:\n",
    "        riesgo = 'Alto'\n",
    "    return riesgo"
   ]
  },
  {
   "cell_type": "code",
   "execution_count": 3,
   "metadata": {},
   "outputs": [],
   "source": [
    "@app.route('/', methods=['POST', 'GET'])\n",
    "def main_app():\n",
    "    try:\n",
    "        if request.method == 'POST':\n",
    "            dia_semana = request.form['dia_semana']\n",
    "            latitud = request.form['latitud']\n",
    "            longitud = request.form['longitud']\n",
    "            mes = request.form['mes']\n",
    "            hora = request.form['hora']\n",
    "            minuto = request.form['minuto']\n",
    "            parametros = (dia_semana, latitud, longitud, mes, hora, minuto)\n",
    "            lang = detection(model, parametros)\n",
    "        else:\n",
    "            lang = None\n",
    "        return render_template('index.html', result={'riesgo': lang.upper()})\n",
    "    except:\n",
    "        return render_template('index.html', result={'riesgo': None})"
   ]
  },
  {
   "cell_type": "code",
   "execution_count": null,
   "metadata": {},
   "outputs": [
    {
     "name": "stdout",
     "output_type": "stream",
     "text": [
      " * Serving Flask app \"__main__\" (lazy loading)\n",
      " * Environment: production\n",
      "   WARNING: This is a development server. Do not use it in a production deployment.\n",
      "   Use a production WSGI server instead.\n",
      " * Debug mode: off\n"
     ]
    },
    {
     "name": "stderr",
     "output_type": "stream",
     "text": [
      " * Running on http://127.0.0.1:5000/ (Press CTRL+C to quit)\n",
      "127.0.0.1 - - [10/Jun/2021 01:02:58] \"\u001b[37mGET / HTTP/1.1\u001b[0m\" 200 -\n",
      "127.0.0.1 - - [10/Jun/2021 01:02:58] \"\u001b[36mGET /static/vendor/bootstrap/css/bootstrap.min.css HTTP/1.1\u001b[0m\" 304 -\n",
      "127.0.0.1 - - [10/Jun/2021 01:02:59] \"\u001b[36mGET /static/fonts/font-awesome-4.7.0/css/font-awesome.min.css HTTP/1.1\u001b[0m\" 304 -\n",
      "127.0.0.1 - - [10/Jun/2021 01:02:59] \"\u001b[36mGET /static/fonts/Linearicons-Free-v1.0.0/icon-font.min.css HTTP/1.1\u001b[0m\" 304 -\n",
      "127.0.0.1 - - [10/Jun/2021 01:02:59] \"\u001b[36mGET /static/vendor/animate/animate.css HTTP/1.1\u001b[0m\" 304 -\n",
      "127.0.0.1 - - [10/Jun/2021 01:02:59] \"\u001b[36mGET /static/vendor/css-hamburgers/hamburgers.min.css HTTP/1.1\u001b[0m\" 304 -\n",
      "127.0.0.1 - - [10/Jun/2021 01:02:59] \"\u001b[36mGET /static/css/util.css HTTP/1.1\u001b[0m\" 304 -\n",
      "127.0.0.1 - - [10/Jun/2021 01:02:59] \"\u001b[36mGET /static/vendor/select2/select2.min.css HTTP/1.1\u001b[0m\" 304 -\n",
      "127.0.0.1 - - [10/Jun/2021 01:02:59] \"\u001b[36mGET /static/css/main.css HTTP/1.1\u001b[0m\" 304 -\n",
      "127.0.0.1 - - [10/Jun/2021 01:02:59] \"\u001b[36mGET /static/fonts/raleway/Raleway-Black.ttf HTTP/1.1\u001b[0m\" 304 -\n",
      "127.0.0.1 - - [10/Jun/2021 01:02:59] \"\u001b[36mGET /static/fonts/poppins/Poppins-Regular.ttf HTTP/1.1\u001b[0m\" 304 -\n",
      "127.0.0.1 - - [10/Jun/2021 01:02:59] \"\u001b[36mGET /static/fonts/raleway/Raleway-SemiBold.ttf HTTP/1.1\u001b[0m\" 304 -\n",
      "127.0.0.1 - - [10/Jun/2021 01:02:59] \"\u001b[36mGET /static/fonts/raleway/Raleway-Regular.ttf HTTP/1.1\u001b[0m\" 304 -\n",
      "127.0.0.1 - - [10/Jun/2021 01:02:59] \"\u001b[36mGET /static/fonts/raleway/Raleway-Bold.ttf HTTP/1.1\u001b[0m\" 304 -\n",
      "127.0.0.1 - - [10/Jun/2021 01:02:59] \"\u001b[36mGET /static/vendor/jquery/jquery-3.2.1.min.js HTTP/1.1\u001b[0m\" 304 -\n",
      "127.0.0.1 - - [10/Jun/2021 01:02:59] \"\u001b[36mGET /static/vendor/bootstrap/js/popper.js HTTP/1.1\u001b[0m\" 304 -\n",
      "127.0.0.1 - - [10/Jun/2021 01:02:59] \"\u001b[36mGET /static/vendor/select2/select2.min.js HTTP/1.1\u001b[0m\" 304 -\n",
      "127.0.0.1 - - [10/Jun/2021 01:02:59] \"\u001b[36mGET /static/vendor/bootstrap/js/bootstrap.min.js HTTP/1.1\u001b[0m\" 304 -\n",
      "127.0.0.1 - - [10/Jun/2021 01:02:59] \"\u001b[36mGET /static/js/main.js HTTP/1.1\u001b[0m\" 304 -\n",
      "127.0.0.1 - - [10/Jun/2021 01:02:59] \"\u001b[36mGET /static/images/img-01.png HTTP/1.1\u001b[0m\" 304 -\n",
      "C:\\Users\\samir\\anaconda3\\lib\\site-packages\\sklearn\\utils\\validation.py:72: FutureWarning: Beginning in version 0.22, arrays of bytes/strings will be converted to decimal numbers if dtype='numeric'. It is recommended that you convert the array to a float dtype before using it in scikit-learn, for example by using your_array = your_array.astype(np.float64).\n",
      "  return f(**kwargs)\n",
      "C:\\Users\\samir\\anaconda3\\lib\\site-packages\\sklearn\\utils\\validation.py:72: FutureWarning: Beginning in version 0.22, arrays of bytes/strings will be converted to decimal numbers if dtype='numeric'. It is recommended that you convert the array to a float dtype before using it in scikit-learn, for example by using your_array = your_array.astype(np.float64).\n",
      "  return f(**kwargs)\n",
      "127.0.0.1 - - [10/Jun/2021 01:04:59] \"\u001b[37mPOST / HTTP/1.1\u001b[0m\" 200 -\n"
     ]
    }
   ],
   "source": [
    "if __name__ == '__main__':\n",
    "    model = joblib.load('Modelo/model.pkl')\n",
    "    url = \"http://localhost:5000\"\n",
    "    webbrowser.open_new(url)\n",
    "    app.run()"
   ]
  },
  {
   "cell_type": "code",
   "execution_count": null,
   "metadata": {},
   "outputs": [],
   "source": []
  },
  {
   "cell_type": "code",
   "execution_count": null,
   "metadata": {},
   "outputs": [],
   "source": []
  }
 ],
 "metadata": {
  "kernelspec": {
   "display_name": "Python 3",
   "language": "python",
   "name": "python3"
  },
  "language_info": {
   "codemirror_mode": {
    "name": "ipython",
    "version": 3
   },
   "file_extension": ".py",
   "mimetype": "text/x-python",
   "name": "python",
   "nbconvert_exporter": "python",
   "pygments_lexer": "ipython3",
   "version": "3.8.5"
  }
 },
 "nbformat": 4,
 "nbformat_minor": 4
}
